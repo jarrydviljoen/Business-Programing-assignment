{
  "nbformat": 4,
  "nbformat_minor": 0,
  "metadata": {
    "colab": {
      "provenance": [],
      "authorship_tag": "ABX9TyNV80QW41SsAa8yBFOoDZCg",
      "include_colab_link": true
    },
    "kernelspec": {
      "name": "python3",
      "display_name": "Python 3"
    },
    "language_info": {
      "name": "python"
    }
  },
  "cells": [
    {
      "cell_type": "markdown",
      "metadata": {
        "id": "view-in-github",
        "colab_type": "text"
      },
      "source": [
        "<a href=\"https://colab.research.google.com/github/jarrydviljoen/Business-Programing-assignment/blob/main/Developmentnotebook.ipynb\" target=\"_parent\"><img src=\"https://colab.research.google.com/assets/colab-badge.svg\" alt=\"Open In Colab\"/></a>"
      ]
    },
    {
      "cell_type": "markdown",
      "source": [
        "Library Imports and Database Connection"
      ],
      "metadata": {
        "id": "tzLjs7sIalIh"
      }
    },
    {
      "cell_type": "code",
      "execution_count": null,
      "metadata": {
        "id": "ZoTPaEDsZ-Hw"
      },
      "outputs": [],
      "source": [
        "#Download Enron email data\n",
        "!wget -O enron.db https://curtin-my.sharepoint.com/:u:/g/personal/211934g_curtin_edu_au/EaYagsqa2r1Bi5wtHbswGFwBH2kd2uTnz6rlka7GI36GUQ?download=1\n",
        "# Required Libraries\n",
        "import sqlite3     # For handling SQLite database\n",
        "import pandas as pd    # For data manipulation and analysis\n",
        "import matplotlib.pyplot as plt   # For creating static, animated, and interactive visualizations\n",
        "import seaborn as sns  # For statistical data visualization\n",
        "\n",
        "# Database connection\n",
        "conn = sqlite3.connect(\"/content/enron.db\") # Connect to the Enron SQLite database\n"
      ]
    },
    {
      "cell_type": "markdown",
      "source": [
        "Pseudocode:"
      ],
      "metadata": {
        "id": "MuETk3_jbCRH"
      }
    },
    {
      "cell_type": "code",
      "source": [
        "# The pandas library is used for robust data manipulation and analysis \n",
        "# The sqlite3 library enables interaction with SQLite databases\n",
        "# The seaborn library is a Python data visualization toolkit based on matplotlib that offers a high-level interface for building appealing and instructive statistical visuals. \n",
        "# The matplotlib.pyplot library is used to create static, animated, and interactive visualizations in Python.\n",
        "\n",
        "# Create a connection to the SQLite database saved as 'enron.db'.\n"
      ],
      "metadata": {
        "id": "pRLmHieybMRp"
      },
      "execution_count": null,
      "outputs": []
    },
    {
      "cell_type": "markdown",
      "source": [
        "Extract Tables and Overview"
      ],
      "metadata": {
        "id": "ALGuxnbqR_4R"
      }
    },
    {
      "cell_type": "code",
      "source": [
        "# Cursor initiation\n",
        "cur = conn.cursor()\n",
        "\n",
        "# Extract names of all tables in the database\n",
        "table_query = \"\"\"\n",
        "SELECT name\n",
        "FROM sqlite_master\n",
        "WHERE type = 'table'\n",
        "\"\"\"\n",
        "cur.execute(table_query)\n",
        "tables = cur.fetchall()\n",
        "print(\"Tables in the database:\", tables)\n",
        "\n",
        "# Overview of tables\n",
        "for table in tables:\n",
        "    table = table[0]\n",
        "    row_query = f\"SELECT COUNT(*) FROM {table}\"\n",
        "    cur.execute(row_query)\n",
        "    row_count = cur.fetchone()[0]\n",
        "    print(f\"The {table} table has {row_count} rows.\")\n"
      ],
      "metadata": {
        "id": "DPmjJSmJPVZf"
      },
      "execution_count": null,
      "outputs": []
    },
    {
      "cell_type": "markdown",
      "source": [
        "Pseudocode:"
      ],
      "metadata": {
        "id": "AIVkxU_BPrOf"
      }
    },
    {
      "cell_type": "code",
      "source": [
        "# Start the database connection's cursor.\n",
        "\n",
        "#Create a SQL query to retrieve a list of all the database's tables' names. \n",
        "#Run the query using a cursor. \n",
        "#Get every row from the search result. the table names in text form\n",
        "\n",
        "# Loop through the list of table names \n",
        "#Create and run a query for each table to determine the amount of rows\n",
        "# Print the table name and the row count after obtaining the row count.\n"
      ],
      "metadata": {
        "id": "3ERi5AXrPo5A"
      },
      "execution_count": null,
      "outputs": []
    },
    {
      "cell_type": "markdown",
      "source": [
        "Extract Data and Initial Data Analysis"
      ],
      "metadata": {
        "id": "Jx32Ba1QSFGV"
      }
    },
    {
      "cell_type": "code",
      "source": [
        "# SQL queries to extract data from tables\n",
        "employee_query = \"SELECT * FROM Employeelist;\"\n",
        "message_query = \"SELECT * FROM Message;\"\n",
        "recipient_query = \"SELECT * FROM Recipientinfo;\"\n",
        "reference_query = \"SELECT * FROM Referenceinfo;\"\n",
        "\n",
        "# Load query results into dataframes\n",
        "df_employees = pd.read_sql_query(employee_query, conn)\n",
        "df_messages = pd.read_sql_query(message_query, conn)\n",
        "df_recipients = pd.read_sql_query(recipient_query, conn)\n",
        "df_references = pd.read_sql_query(reference_query, conn)\n",
        "\n",
        "# Perform initial data exploration\n",
        "print(\"Employees Dataframe:\")\n",
        "print(df_employees.head())\n",
        "print(\"\\nMessages Dataframe:\")\n",
        "print(df_messages.head())\n",
        "print(\"\\nRecipients Dataframe:\")\n",
        "print(df_recipients.head())\n",
        "print(\"\\nReferences Dataframe:\")\n",
        "print(df_references.head())\n"
      ],
      "metadata": {
        "id": "pmmzAvUHRwkO"
      },
      "execution_count": null,
      "outputs": []
    },
    {
      "cell_type": "markdown",
      "source": [
        "Pseudocode:"
      ],
      "metadata": {
        "id": "o4-QWBPSRz2e"
      }
    },
    {
      "cell_type": "code",
      "source": [
        "# Create SQL statements to fetch all data from each table.\n",
        "\n",
        "# Use pandas to load the outcomes into a dataframe for each query.\n",
        "\n",
        "# To begin exploring the data, print the first few records in each dataframe.\n"
      ],
      "metadata": {
        "id": "MzmuGUbSR37r"
      },
      "execution_count": null,
      "outputs": []
    },
    {
      "cell_type": "markdown",
      "source": [
        "Data Cleaning and Preprocessing"
      ],
      "metadata": {
        "id": "pLAnMye_SJGR"
      }
    },
    {
      "cell_type": "code",
      "source": [
        "# Convert date column to datetime objects\n",
        "df_messages['date'] = pd.to_datetime(df_messages['date'], errors='coerce')\n",
        "\n",
        "# Lowercase email addresses for consistency\n",
        "df_employees['Email_id'] = df_employees['Email_id'].str.lower()\n",
        "df_messages['sender'] = df_messages['sender'].str.lower()\n",
        "df_recipients['rvalue'] = df_recipients['rvalue'].str.lower()\n",
        "\n",
        "# Check for missing values\n",
        "print(\"Missing Values:\")\n",
        "print(\"Employees Dataframe:\", df_employees.isnull().sum())\n",
        "print(\"Messages Dataframe:\", df_messages.isnull().sum())\n",
        "print(\"Recipients Dataframe:\", df_recipients.isnull().sum())\n",
        "print(\"References Dataframe:\", df_references.isnull().sum())\n",
        "\n",
        "# Handle missing values based on your specific requirements.\n",
        "# Here, we remove rows with any missing values as an example.\n",
        "df_employees = df_employees.dropna()\n",
        "df_messages = df_messages.dropna()\n",
        "df_recipients = df_recipients.dropna()\n",
        "df_references = df_references.dropna()\n"
      ],
      "metadata": {
        "id": "B2-wISgVSZmF"
      },
      "execution_count": null,
      "outputs": []
    },
    {
      "cell_type": "markdown",
      "source": [
        "Pseudocode"
      ],
      "metadata": {
        "id": "tcdTjWvRSfLf"
      }
    },
    {
      "cell_type": "code",
      "source": [
        "# For better analysis, change the date column in the messages dataframe to a datetime object.\n",
        "\n",
        "# For uniformity, lowercase all email addresses.\n",
        "\n",
        "# Verify that no dataframes contain any missing values.\n",
        "\n",
        "# Handle missing values in accordance with the specifications of your analysis. In this instance, we only eliminate all rows with empty values.\n"
      ],
      "metadata": {
        "id": "txfiAKnXSgUd"
      },
      "execution_count": null,
      "outputs": []
    },
    {
      "cell_type": "markdown",
      "source": [
        "Data Analysis and Visualization"
      ],
      "metadata": {
        "id": "VluqQXBbSzqh"
      }
    },
    {
      "cell_type": "code",
      "source": [
        "# Extract year from date\n",
        "df_messages['year'] = df_messages['date'].dt.year\n",
        "\n",
        "# Group by year and count the number of messages\n",
        "email_counts = df_messages.groupby('year').size()\n",
        "\n",
        "# Plot the email traffic over time\n",
        "plt.figure(figsize=(12, 6))\n",
        "plt.plot(email_counts.index, email_counts.values, marker='o')\n",
        "plt.grid()\n",
        "plt.title('Email Traffic Over Time')\n",
        "plt.xlabel('Year')\n",
        "plt.ylabel('Number of Emails')\n",
        "plt.show()\n"
      ],
      "metadata": {
        "id": "cKgQ8rC2TDI-"
      },
      "execution_count": null,
      "outputs": []
    },
    {
      "cell_type": "markdown",
      "source": [
        "Pseudocode"
      ],
      "metadata": {
        "id": "_dGBE6uATGMD"
      }
    },
    {
      "cell_type": "code",
      "source": [
        "# In the dataframe for messages, extract the year from the date column.\n",
        "\n",
        "# Sort the dataframe by year and tally the messages sent for each year.\n",
        "\n",
        "# Display the annual message volume on a graph.\n"
      ],
      "metadata": {
        "id": "BaYKgOaGTIl7"
      },
      "execution_count": null,
      "outputs": []
    },
    {
      "cell_type": "markdown",
      "source": [
        "Data Analysis and Visualization"
      ],
      "metadata": {
        "id": "P5pjOYelTY7H"
      }
    },
    {
      "cell_type": "code",
      "source": [
        "# Top 10 senders\n",
        "top_senders = df_messages['sender'].value_counts().head(10)\n",
        "\n",
        "# Top 10 recipients\n",
        "top_recipients = df_recipients['rvalue'].value_counts().head(10)\n",
        "\n",
        "# Plot top senders\n",
        "plt.figure(figsize=(10, 8))\n",
        "top_senders.plot(kind='barh', color='skyblue')\n",
        "plt.title('Top 10 Email Senders')\n",
        "plt.xlabel('Number of Emails Sent')\n",
        "plt.ylabel('Senders')\n",
        "plt.gca().invert_yaxis()  # To display the sender with highest count at the top\n",
        "plt.show()\n",
        "\n",
        "# Plot top recipients\n",
        "plt.figure(figsize=(10, 8))\n",
        "top_recipients.plot(kind='barh', color='skyblue')\n",
        "plt.title('Top 10 Email Recipients')\n",
        "plt.xlabel('Number of Emails Received')\n",
        "plt.ylabel('Recipients')\n",
        "plt.gca().invert_yaxis()  # To display the recipient with highest count at the top\n",
        "plt.show()\n"
      ],
      "metadata": {
        "id": "hH6m1DleTmUE"
      },
      "execution_count": null,
      "outputs": []
    },
    {
      "cell_type": "markdown",
      "source": [
        "Pseudocode"
      ],
      "metadata": {
        "id": "E2OYR-vVToza"
      }
    },
    {
      "cell_type": "code",
      "source": [
        "# From the messages dataframe, determine the top 10 senders.\n",
        "\n",
        "# From the recipients dataframe, determine the top 10 recipients.\n",
        "\n",
        "# Produce a horizontal bar graph showing the top 10 senders.\n",
        "\n",
        "# Produce a horizontal bar graph showing the top 10 receivers.\n"
      ],
      "metadata": {
        "id": "M5xRYbOuTrtN"
      },
      "execution_count": null,
      "outputs": []
    },
    {
      "cell_type": "markdown",
      "source": [
        "Interpretation of Results and Conclusions"
      ],
      "metadata": {
        "id": "8fzjlLAYT7-N"
      }
    },
    {
      "cell_type": "code",
      "source": [
        "--- ## Findings and Recommendations\n",
        "\n",
        "1. **Email Traffic Over Time**: Based on the email traffic over time and the visualizations you created, you may infer that [give analysis based on your understanding of company and the visualizations you developed]. There was an increase or drop in communication during particular periods.\n",
        "\n",
        "2. Top Email Senders and Recipients: The most frequent email senders are [...]. This implies that they might have had important positions within the business. The recipients that were contacted the most frequently were [...], indicating that they were significant contacts.\n",
        "\n",
        "3. **Email Distribution by Recipient Type**: Most of the emails went to [...]. This demonstrates that [contextual interpretation] was used in most communications.\n",
        "\n",
        "4. **Subject Keyword Analysis**: [...] were the most often discussed subjects. This demonstrates that during the analysis period, these issues were very important to the organization.\n",
        "\n",
        "\n",
        "---\n"
      ],
      "metadata": {
        "id": "C94iRaMIUOxe"
      },
      "execution_count": null,
      "outputs": []
    },
    {
      "cell_type": "markdown",
      "source": [
        "Refactoring and Optimization"
      ],
      "metadata": {
        "id": "CPEwfK8jUmHO"
      }
    },
    {
      "cell_type": "code",
      "source": [
        "# Original code\n",
        "df_messages['date'] = pd.to_datetime(df_messages['date'])\n",
        "df_messages['year'] = df_messages['date'].dt.year\n",
        "\n",
        "# Refactored code\n",
        "df_messages['year'] = pd.to_datetime(df_messages['date']).dt.year\n"
      ],
      "metadata": {
        "id": "RCx-JE6WUo77"
      },
      "execution_count": null,
      "outputs": []
    }
  ]
}